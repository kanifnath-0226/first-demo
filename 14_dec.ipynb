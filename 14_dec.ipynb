{
 "cells": [
  {
   "cell_type": "code",
   "execution_count": 5,
   "metadata": {},
   "outputs": [
    {
     "name": "stdout",
     "output_type": "stream",
     "text": [
      "the given number  153 is not an amstrong:\n",
      "the given number  153 is not an amstrong:\n",
      "The given number 153  is an Arnstrong number :\n"
     ]
    }
   ],
   "source": [
    "#Example 1: Python program to check if a given number is an Armstrong number\n",
    "\n",
    "given_number = 153\n",
    "given_number = str(given_number)\n",
    "string_length = len(given_number)\n",
    "\n",
    "sum = 0\n",
    "\n",
    "for i in given_number:\n",
    "    sum+=int(i)**string_length\n",
    "    if sum == int(given_number):\n",
    "        print(\"The given number\",given_number,\" is an Arnstrong number :\")\n",
    "    else:\n",
    "        print(\"the given number \",given_number,\"is not an amstrong:\")"
   ]
  },
  {
   "cell_type": "code",
   "execution_count": 27,
   "metadata": {},
   "outputs": [
    {
     "name": "stdout",
     "output_type": "stream",
     "text": [
      "your grade is B\n"
     ]
    }
   ],
   "source": [
    "#Example 2:write a program to accept percentage from user and display grade.\n",
    "\n",
    "mark = int(input(\"Enter the your percentage :\"))\n",
    "if mark > 90:\n",
    "    print(\"your grade is A\")\n",
    "elif mark>80 & mark<=90:\n",
    "    print(\"your grade is B\")\n",
    "elif mark>60 & mark<=80:\n",
    "    print(\"your grade is C\")\n",
    "else:\n",
    "    mark >60\n",
    "    print(\" your grade is D\")"
   ]
  },
  {
   "cell_type": "code",
   "execution_count": 28,
   "metadata": {},
   "outputs": [
    {
     "name": "stdout",
     "output_type": "stream",
     "text": [
      "friday\n"
     ]
    }
   ],
   "source": [
    "#Example 3:Write a progra to accept a number from 1 to 7 and display the name of the day like 1 for saturday ,2 for monday and so on \n",
    "\n",
    "num = int(input(\"Enter the number from 1 to 7 :\"))\n",
    "if num==1:\n",
    "    print(\"sunday\")\n",
    "elif num ==2:\n",
    "     print(\"monday\")\n",
    "elif num==3:\n",
    "     print(\"tuesday\")\n",
    "elif num==4:\n",
    "    print(\"wednesday\")\n",
    "elif num==5:\n",
    "    print(\"thursday\")\n",
    "elif num==6:\n",
    "    print(\"friday\")\n",
    "elif num==7:\n",
    "    print(\"saturday\")\n",
    "else:\n",
    "    print(\"you enter invalid vallue \")\n"
   ]
  },
  {
   "cell_type": "code",
   "execution_count": 29,
   "metadata": {},
   "outputs": [
    {
     "name": "stdout",
     "output_type": "stream",
     "text": [
      "your age is 50 you are eligible for voting\n"
     ]
    }
   ],
   "source": [
    "#Example 4:write a progra to check whether a person is eligible for voting or not (voting age >+18)\n",
    "\n",
    "age = int(input(\"Enter the your age :\"))\n",
    " \n",
    "if age >=18 :\n",
    "    print(f\"your age is {age} you are eligible for voting\")\n",
    "else:\n",
    "    print(f\"your age is {age} you are not eligible for voting\")\n"
   ]
  },
  {
   "cell_type": "code",
   "execution_count": 50,
   "metadata": {},
   "outputs": [
    {
     "name": "stdout",
     "output_type": "stream",
     "text": [
      "the square of 1 is : 1\n",
      "the square of 2 is : 4\n",
      "the square of 3 is : 9\n",
      "the square of 4 is : 16\n",
      "the square of 5 is : 25\n",
      "the square of 6 is : 36\n",
      "the square of 7 is : 49\n",
      "the square of 8 is : 64\n",
      "the square of 9 is : 81\n"
     ]
    }
   ],
   "source": [
    "#Example 5:Calculate th square of each number of list numbers =[1,2,3,4,5]\n",
    "\n",
    "for i in range(1,10):\n",
    "     print(f\"the square of {i} is :\",i**2)\n",
    "    "
   ]
  },
  {
   "cell_type": "code",
   "execution_count": 53,
   "metadata": {},
   "outputs": [
    {
     "name": "stdout",
     "output_type": "stream",
     "text": [
      "odd number is : 1\n",
      "Even number is : 2\n",
      "odd number is : 3\n",
      "Even number is : 4\n",
      "odd number is : 5\n",
      "Even number is : 6\n",
      "odd number is : 7\n",
      "Even number is : 8\n",
      "odd number is : 9\n",
      "Even number is : 10\n",
      "odd number is : 11\n",
      "Even number is : 42\n",
      "Even number is : 56\n",
      "odd number is : 33\n",
      "odd number is : 99\n",
      "Even number is : 12\n"
     ]
    }
   ],
   "source": [
    "#Example 6:print all and even number from 1 to 11\n",
    "\n",
    "number = [1,2,3,4,5,6,7,8,9,10,11,42,56,33,99,12]\n",
    "for i in number:\n",
    "    if (i%2==0):\n",
    "        print(\"Even number is :\",i)\n",
    "    else:\n",
    "        print(\"odd number is :\",i)"
   ]
  },
  {
   "cell_type": "code",
   "execution_count": 54,
   "metadata": {},
   "outputs": [
    {
     "name": "stdout",
     "output_type": "stream",
     "text": [
      "25 24 23 22 21 20 19 18 17 16 15 14 13 12 11 10 9 8 7 6 5 4 3 2 1 "
     ]
    }
   ],
   "source": [
    "#Example 7:write program to print n natural number in descending order using while loop.\n",
    "    \n",
    "i = int(input(\"Enter the number :\"))\n",
    "while i>=1:\n",
    "    print(i, end=' ')\n",
    "    i -=1"
   ]
  },
  {
   "cell_type": "code",
   "execution_count": 55,
   "metadata": {},
   "outputs": [
    {
     "name": "stdout",
     "output_type": "stream",
     "text": [
      "KANIFNATH\n",
      "KANIFNATH\n",
      "KANIFNATH\n",
      "KANIFNATH\n",
      "KANIFNATH\n",
      "KANIFNATH\n",
      "KANIFNATH\n",
      "KANIFNATH\n",
      "KANIFNATH\n",
      "KANIFNATH\n"
     ]
    }
   ],
   "source": [
    " #Example 8:write a python program to print your name 10 time using while loop.\n",
    "\n",
    "i = 10\n",
    "name = str(input(\"Enter your name :\"))\n",
    "while i>0:\n",
    "    print(name)\n",
    "    i -=1"
   ]
  },
  {
   "cell_type": "code",
   "execution_count": 34,
   "metadata": {},
   "outputs": [
    {
     "name": "stdout",
     "output_type": "stream",
     "text": [
      "30\n"
     ]
    }
   ],
   "source": [
    "#Example 9:write a python program to print sum of all even numbers from 1 to 10 using while loop\n",
    "n=0\n",
    "sum =0\n",
    "while n<=10:\n",
    "    sum +=n\n",
    "    n +=2\n",
    "print(sum)"
   ]
  },
  {
   "cell_type": "code",
   "execution_count": 38,
   "metadata": {},
   "outputs": [
    {
     "name": "stdout",
     "output_type": "stream",
     "text": [
      "0\n",
      "1\n",
      "2\n",
      "3\n",
      "4\n",
      "5\n",
      "6\n",
      "7\n",
      "8\n",
      "9\n",
      "10\n"
     ]
    }
   ],
   "source": [
    "#Example 10: Print the first 10 natural numbers using for loop.\n",
    "\n",
    "for i in range(0,11):\n",
    "    print(i)\n"
   ]
  }
 ],
 "metadata": {
  "kernelspec": {
   "display_name": "Python 3",
   "language": "python",
   "name": "python3"
  },
  "language_info": {
   "codemirror_mode": {
    "name": "ipython",
    "version": 3
   },
   "file_extension": ".py",
   "mimetype": "text/x-python",
   "name": "python",
   "nbconvert_exporter": "python",
   "pygments_lexer": "ipython3",
   "version": "3.12.0"
  }
 },
 "nbformat": 4,
 "nbformat_minor": 2
}
