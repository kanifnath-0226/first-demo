{
 "cells": [
  {
   "cell_type": "code",
   "execution_count": 1,
   "metadata": {},
   "outputs": [
    {
     "name": "stdout",
     "output_type": "stream",
     "text": [
      "2\n",
      "4\n",
      "6\n",
      "8\n",
      "10\n",
      "12\n",
      "14\n",
      "16\n",
      "18\n",
      "20\n",
      "22\n",
      "24\n"
     ]
    }
   ],
   "source": [
    "#Example 1 :Python program to print all the even numbers within the given range.\n",
    "\n",
    "for j in range(1,25):\n",
    "    if j %2==0 :\n",
    "        print(j)"
   ]
  },
  {
   "cell_type": "code",
   "execution_count": 2,
   "metadata": {},
   "outputs": [
    {
     "name": "stdout",
     "output_type": "stream",
     "text": [
      "55\n"
     ]
    }
   ],
   "source": [
    "#Example 2: Python program to calculate the sum of all numbers from 1 to a given number\n",
    "\n",
    "num = int(input(\"Enter the number :\"))\n",
    "sum = 0\n",
    "k = 1\n",
    "while (k<=num):\n",
    "    sum +=k\n",
    "    k +=1\n",
    "print(sum)"
   ]
  },
  {
   "cell_type": "code",
   "execution_count": 3,
   "metadata": {},
   "outputs": [
    {
     "name": "stdout",
     "output_type": "stream",
     "text": [
      "169\n"
     ]
    }
   ],
   "source": [
    "# Example 3: Python program to calculate the sum of all the odd numbers within the given range.\n",
    "\n",
    "num = int(input(\"Enter the number :\"))\n",
    "sum = 0\n",
    "k = 1\n",
    "while (k<=num):\n",
    "    sum +=k\n",
    "    k +=2\n",
    "print(sum)"
   ]
  },
  {
   "cell_type": "code",
   "execution_count": 4,
   "metadata": {},
   "outputs": [
    {
     "name": "stdout",
     "output_type": "stream",
     "text": [
      "10 x 1 = 10\n",
      "10 x 2 = 20\n",
      "10 x 3 = 30\n",
      "10 x 4 = 40\n",
      "10 x 5 = 50\n",
      "10 x 6 = 60\n",
      "10 x 7 = 70\n",
      "10 x 8 = 80\n",
      "10 x 9 = 90\n",
      "10 x 10 = 100\n"
     ]
    }
   ],
   "source": [
    "#Example 4: Python program to print a multiplication table of a given number\n",
    "\n",
    "n = int(input(\"Enter the number :\"))\n",
    "for i in range(1,11):\n",
    "    print(n, \"x\", i,\"=\", n*i)"
   ]
  },
  {
   "cell_type": "code",
   "execution_count": 5,
   "metadata": {},
   "outputs": [
    {
     "name": "stdout",
     "output_type": "stream",
     "text": [
      "10\n",
      "20\n",
      "50\n",
      "60\n",
      "40\n",
      "90\n",
      "5\n",
      "30\n"
     ]
    }
   ],
   "source": [
    "#Example 5: Python program to display numbers from a list using a for loop.\n",
    "\n",
    "num = [10,20,50,60,40,90,5,30]\n",
    "for i in num:\n",
    "    print(i)\n"
   ]
  },
  {
   "cell_type": "code",
   "execution_count": 6,
   "metadata": {},
   "outputs": [
    {
     "name": "stdout",
     "output_type": "stream",
     "text": [
      "1\n",
      "2\n",
      "3\n",
      "4\n",
      "5\n",
      "6\n",
      "7\n",
      "8\n"
     ]
    }
   ],
   "source": [
    "#Example 6: Python program to count the total number of digits in a number.\n",
    "\n",
    "given = 12345678\n",
    "\n",
    "given = str(given)\n",
    "count = 0\n",
    "for i in given:\n",
    "    count +=1\n",
    "    print(count)\n"
   ]
  },
  {
   "cell_type": "code",
   "execution_count": 8,
   "metadata": {},
   "outputs": [
    {
     "name": "stdout",
     "output_type": "stream",
     "text": [
      "the string is nota palindrom.\n"
     ]
    }
   ],
   "source": [
    "#Example 7: Python program to check if the given string is a palindrome.\n",
    "\n",
    "string = str(input(\"Enter the string :\"))\n",
    "print(f\"the string is {'not' if string != string[::-1]else' '} a palindrom.\")\n"
   ]
  },
  {
   "cell_type": "code",
   "execution_count": 9,
   "metadata": {},
   "outputs": [
    {
     "name": "stdout",
     "output_type": "stream",
     "text": [
      "hsenag\n"
     ]
    }
   ],
   "source": [
    "#Example 8: Python program that accepts a word from the user and reverses it.\n",
    "\n",
    "string = str(input(\"Enter the string :\"))\n",
    "print(string[::-1])"
   ]
  },
  {
   "cell_type": "code",
   "execution_count": 10,
   "metadata": {},
   "outputs": [
    {
     "name": "stdout",
     "output_type": "stream",
     "text": [
      "the given number 1 is odd\n",
      "the given number 3 is odd\n",
      "the given number 59 is odd\n",
      "The given number 4 is even \n",
      "The given number 6 is even \n",
      "The given number 8 is even \n",
      "the given number 63 is odd\n",
      "The given number 24 is even \n",
      "the given number 5 is odd\n"
     ]
    }
   ],
   "source": [
    "#Example 9: Python program to count the number of even and odd numbers from a series of n\n",
    "\n",
    "num = [1,3,59,4,6,8,63,24,5]\n",
    "for i in num:\n",
    "    if i%2==0:\n",
    "        print(f\"The given number {i} is even \")\n",
    "    else:\n",
    "        print(f\"the given number {i} is odd\")"
   ]
  },
  {
   "cell_type": "code",
   "execution_count": 11,
   "metadata": {},
   "outputs": [
    {
     "name": "stdout",
     "output_type": "stream",
     "text": [
      "Non-prime numbers between 10 and 30 are:\n",
      "10\n",
      "12\n",
      "14\n",
      "15\n",
      "16\n",
      "18\n",
      "20\n",
      "21\n",
      "22\n",
      "24\n",
      "25\n",
      "26\n",
      "27\n",
      "28\n"
     ]
    }
   ],
   "source": [
    "#Example 10: Python program to display all numbers within a range except the prime numbers.\n",
    "\n",
    "import math\n",
    "\n",
    "def is_not_prime(n):\n",
    "    flag = False\n",
    "\n",
    "    for i in range(2, int(math.sqrt(n)) + 1):\n",
    "        if n % i == 0:\n",
    "            flag = True\n",
    "    return flag\n",
    "\n",
    "range_starts = 10\n",
    "range_ends = 30\n",
    "\n",
    "print(\"Non-prime numbers between\", range_starts, \"and\", range_ends, \"are:\")\n",
    "for number in filter(is_not_prime, range(range_starts, range_ends)):\n",
    "    print(number)\n",
    "     "
   ]
  }
 ],
 "metadata": {
  "kernelspec": {
   "display_name": "Python 3",
   "language": "python",
   "name": "python3"
  },
  "language_info": {
   "codemirror_mode": {
    "name": "ipython",
    "version": 3
   },
   "file_extension": ".py",
   "mimetype": "text/x-python",
   "name": "python",
   "nbconvert_exporter": "python",
   "pygments_lexer": "ipython3",
   "version": "3.12.0"
  }
 },
 "nbformat": 4,
 "nbformat_minor": 2
}
