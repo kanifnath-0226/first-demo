{
 "cells": [
  {
   "cell_type": "code",
   "execution_count": 1,
   "metadata": {},
   "outputs": [
    {
     "name": "stdout",
     "output_type": "stream",
     "text": [
      "Addition is : 89\n",
      "multiplication is : 1924\n"
     ]
    }
   ],
   "source": [
    "#define two variables,j and k with values 37 and 57 res.\n",
    "\n",
    "j =37\n",
    "k =52\n",
    "sum = int(j)+int(k)\n",
    "product = int(j)*int(k)\n",
    "\n",
    "print(\"Addition is :\",sum)\n",
    "print(\"multiplication is :\",product)"
   ]
  },
  {
   "cell_type": "code",
   "execution_count": 2,
   "metadata": {},
   "outputs": [
    {
     "name": "stdout",
     "output_type": "stream",
     "text": [
      "minutes in year : 191844000\n"
     ]
    }
   ],
   "source": [
    "#Example 2.calculate the number of minutes in a year using variables for a normal year.\n",
    "\n",
    "year = 365 \n",
    "hours = 24*int(year)\n",
    "minutes = int(year)*int(hours)*int(60)\n",
    "print(\"minutes in year :\",minutes)"
   ]
  },
  {
   "cell_type": "code",
   "execution_count": 1,
   "metadata": {},
   "outputs": [
    {
     "name": "stdout",
     "output_type": "stream",
     "text": [
      "adition id:  13\n",
      "subtraction is : -1\n",
      "multiplication is : 42\n",
      "division is : 0.8571428571428571\n",
      "floor division is : 0\n",
      "modulus is : 6\n",
      "Exponential is : 279936\n"
     ]
    }
   ],
   "source": [
    "#Example 3.write a code to define two variables (,+,-,/,*,**,%)\n",
    "\n",
    "a = int(6)\n",
    "b = int(7)\n",
    "\n",
    "print(\"adition id: \",a+b)\n",
    "print(\"subtraction is :\",a-b)\n",
    "print(\"multiplication is :\",a*b)\n",
    "print(\"division is :\",a/b)\n",
    "print(\"floor division is :\",a//b)\n",
    "print(\"modulus is :\",a%b)\n",
    "print(\"Exponential is :\",a**b)"
   ]
  },
  {
   "cell_type": "code",
   "execution_count": 8,
   "metadata": {},
   "outputs": [
    {
     "name": "stdout",
     "output_type": "stream",
     "text": [
      "5 girls and 3 boys in a class\n",
      "the length of string is : 29\n",
      "slicing is : 5 girls \n",
      "slicing is :  3 boys\n"
     ]
    }
   ],
   "source": [
    "#Example 4.\n",
    "batch = \"5 girls and 3 boys in a class\"\n",
    "print(batch)\n",
    "\n",
    "print(\"the length of string is :\",len(batch))\n",
    "print(\"slicing is :\",batch[0:8])\n",
    "print(\"slicing is :\",batch[11:18])\n"
   ]
  },
  {
   "cell_type": "code",
   "execution_count": 33,
   "metadata": {},
   "outputs": [
    {
     "name": "stdout",
     "output_type": "stream",
     "text": [
      "22\n",
      "SlAdyebk\n"
     ]
    }
   ],
   "source": [
    "#Example 5 write the code to get output.\n",
    "\n",
    "s = \"Skill Academy Textbook\"\n",
    "\n",
    "print(len(s))\n",
    "\n",
    "print(s[0:22:3])\n"
   ]
  },
  {
   "cell_type": "code",
   "execution_count": 41,
   "metadata": {},
   "outputs": [
    {
     "name": "stdout",
     "output_type": "stream",
     "text": [
      "$ - 1\n",
      "$ - 2\n",
      "$ - 3\n",
      "$ - 4\n",
      "$ - 5\n",
      "$ - 6\n",
      "$ - 7\n",
      "$ - 8\n",
      "$ - 9\n",
      "$ - 10\n",
      "$ - 11\n",
      "$ - 12\n",
      "$ - 13\n",
      "$ - 14\n",
      "$ - 15\n",
      "$ - 16\n",
      "$ - 17\n",
      "$ - 18\n",
      "$ - 19\n",
      "$ - 20\n"
     ]
    }
   ],
   "source": [
    "#Example 6.printthe $ symbol 20 times.\n",
    "\n",
    "for i in range(1,21):\n",
    "    print(\"$\",\"-\",i)"
   ]
  },
  {
   "cell_type": "code",
   "execution_count": 42,
   "metadata": {},
   "outputs": [
    {
     "name": "stdout",
     "output_type": "stream",
     "text": [
      "product of two number is : 300\n"
     ]
    }
   ],
   "source": [
    "#Example 7.\n",
    "\n",
    "a = int(input(\"Enter the first mo. :\"))\n",
    "b = int(input(\"Enter the 2 nd no. :\"))\n",
    "\n",
    "print(\"product of two number is :\",a*b)\n"
   ]
  },
  {
   "cell_type": "code",
   "execution_count": 52,
   "metadata": {},
   "outputs": [
    {
     "name": "stdout",
     "output_type": "stream",
     "text": [
      "Welcome to the Data sciecnce with python  coding pratice session\n"
     ]
    }
   ],
   "source": [
    "#example 8.concatenate the given string.\n",
    "\n",
    "string1 =\"Welcome to the Data sciecnce with python\"\n",
    "string2 =\"coding pratice session\"\n",
    "\n",
    "print(f\"{string1} \"+' '+f\"{string2}\")"
   ]
  }
 ],
 "metadata": {
  "kernelspec": {
   "display_name": "Python 3",
   "language": "python",
   "name": "python3"
  },
  "language_info": {
   "codemirror_mode": {
    "name": "ipython",
    "version": 3
   },
   "file_extension": ".py",
   "mimetype": "text/x-python",
   "name": "python",
   "nbconvert_exporter": "python",
   "pygments_lexer": "ipython3",
   "version": "3.12.0"
  }
 },
 "nbformat": 4,
 "nbformat_minor": 2
}
