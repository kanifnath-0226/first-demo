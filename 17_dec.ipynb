{
 "cells": [
  {
   "cell_type": "code",
   "execution_count": 2,
   "metadata": {},
   "outputs": [
    {
     "name": "stdout",
     "output_type": "stream",
     "text": [
      "10.0 radian is equal to 572.96 degrees\n"
     ]
    }
   ],
   "source": [
    "#Example 1. Write a python program to convert radian into degrees and vice versa.\n",
    "\n",
    "import math\n",
    "\n",
    "def radian_to_deg(radians):\n",
    "    degrees = radians * (180 / math.pi)\n",
    "    return degrees\n",
    "\n",
    "# def deg_to_radian(degrees):\n",
    "#     radian = degrees * (math.pi / 180)\n",
    "#     return radian\n",
    "\n",
    "radian_value = float(input(\"ENter the Radian : \"))\n",
    "degrees_result = radian_to_deg(radian_value)\n",
    "print(f\"{radian_value} radian is equal to {degrees_result:.2f} degrees\")\n"
   ]
  },
  {
   "cell_type": "code",
   "execution_count": 4,
   "metadata": {},
   "outputs": [
    {
     "name": "stdout",
     "output_type": "stream",
     "text": [
      "Letter p occurs 2 times.\n",
      "Letter y occurs 1 times.\n",
      "Letter t occurs 3 times.\n",
      "Letter h occurs 1 times.\n",
      "Letter o occurs 4 times.\n",
      "Letter n occurs 2 times.\n",
      "Letter j occurs 1 times.\n",
      "Letter u occurs 1 times.\n",
      "Letter i occurs 1 times.\n",
      "Letter e occurs 2 times.\n",
      "Letter r occurs 1 times.\n",
      "Letter b occurs 1 times.\n",
      "Letter k occurs 1 times.\n"
     ]
    }
   ],
   "source": [
    "#Example 2.Write a python program to find the occurence of each letter in the given text.\n",
    "\n",
    " \n",
    "\n",
    "def count_occurences(text):\n",
    "    letter_count = {}\n",
    "\n",
    "    for char in text:\n",
    "        if char.isalpha():\n",
    "            char = char.lower()\n",
    "\n",
    "            letter_count[char] = letter_count.get(char, 0) + 1\n",
    "\n",
    "    return letter_count\n",
    "\n",
    "\n",
    "s = 'pythonjupiternotebook'\n",
    "\n",
    "occurences = count_occurences(s)\n",
    "\n",
    "for letter, count in occurences.items():\n",
    "    print(f\"Letter {letter} occurs {count} times.\")\n"
   ]
  },
  {
   "cell_type": "code",
   "execution_count": null,
   "metadata": {},
   "outputs": [],
   "source": []
  },
  {
   "cell_type": "code",
   "execution_count": 47,
   "metadata": {},
   "outputs": [
    {
     "name": "stdout",
     "output_type": "stream",
     "text": [
      "your choice is  2\n"
     ]
    }
   ],
   "source": [
    "def linear_search(x):\n",
    "    \n",
    "\n",
    "\n",
    "\n",
    "a = [1,2,3,4,6]\n",
    "x = int(input(\"Enter the value if you want\"))\n",
    "for i in a:\n",
    "    if i==x:\n",
    "        print(f\"your choice is \",x)\n",
    "    "
   ]
  },
  {
   "cell_type": "code",
   "execution_count": 11,
   "metadata": {},
   "outputs": [
    {
     "name": "stdout",
     "output_type": "stream",
     "text": [
      "All combinations with repetitioons :\n",
      "('Red', 'Red')\n",
      "('Red', 'Green')\n",
      "('Red', 'Blue')\n",
      "('Red', 'Pink')\n",
      "('Green', 'Red')\n",
      "('Green', 'Green')\n",
      "('Green', 'Blue')\n",
      "('Green', 'Pink')\n",
      "('Blue', 'Red')\n",
      "('Blue', 'Green')\n",
      "('Blue', 'Blue')\n",
      "('Blue', 'Pink')\n",
      "('Pink', 'Red')\n",
      "('Pink', 'Green')\n",
      "('Pink', 'Blue')\n",
      "('Pink', 'Pink')\n"
     ]
    }
   ],
   "source": [
    "#Example 3.Write a python program to choose two colours from four differnt colors\n",
    "#and generate all the combinatioonas with repetiitons\n",
    "\n",
    "from itertools import product\n",
    "\n",
    "colors =[\"Red\", \"Green\", \"Blue\", \"Pink\"]\n",
    "\n",
    "color_combination = list(product(colors, repeat = 2))\n",
    "\n",
    "print(\"All combinations with repetitioons :\")\n",
    "for combination in color_combination:\n",
    "    print(combination)"
   ]
  },
  {
   "cell_type": "code",
   "execution_count": 14,
   "metadata": {},
   "outputs": [
    {
     "name": "stdout",
     "output_type": "stream",
     "text": [
      "Three random interger betwwen 10 and 99 that RE DIVISIBLE BY 5 \n",
      "[75, 65, 85]\n"
     ]
    }
   ],
   "source": [
    "#Example 4.Write a python program to generate 3 random integers betwwen 10 and 99 which is divisible by 5\n",
    "\n",
    "import random\n",
    "\n",
    "def generate_random_int():\n",
    "    random_ints = []\n",
    "\n",
    "    for _ in range(3):\n",
    "        random_int = random.randint(10, 99)\n",
    "        while random_int % 5 != 0:\n",
    "            random_int = random.randint(10, 99)\n",
    "\n",
    "        random_ints.append(random_int)\n",
    "\n",
    "    return random_ints\n",
    "\n",
    "result = generate_random_int()\n",
    "print(\"Three random interger betwwen 10 and 99 that RE DIVISIBLE BY 5 \")\n",
    "print(result)\n",
    "\n"
   ]
  },
  {
   "cell_type": "code",
   "execution_count": 26,
   "metadata": {},
   "outputs": [
    {
     "name": "stdout",
     "output_type": "stream",
     "text": [
      "Random char from the given strng: t\n"
     ]
    }
   ],
   "source": [
    "#Example 5.Write a python program to pick a random character from a given string\n",
    "\n",
    " \n",
    "\n",
    "import random\n",
    "\n",
    "def pick_random_char(input_string):\n",
    "    if input_string:\n",
    "        random_char = random.choice(input_string)\n",
    "        return random_char\n",
    "    else:\n",
    "        return \"input string is empty\" \n",
    "    \n",
    "name = 'pythonnotebook '\n",
    "\n",
    "random_char = pick_random_char(name)\n",
    "print(\"Random char from the given strng:\", random_char)\n"
   ]
  },
  {
   "cell_type": "code",
   "execution_count": 36,
   "metadata": {},
   "outputs": [
    {
     "name": "stdout",
     "output_type": "stream",
     "text": [
      "Current Date: 2023-12-24\n",
      "Date after adding five days: 2023-12-29\n"
     ]
    }
   ],
   "source": [
    "#Example 6.Write a orgram to add five days from the current date.\n",
    "\n",
    " \n",
    "from datetime import datetime, timedelta\n",
    "\n",
    "current_date = datetime.now()\n",
    "\n",
    "new_date = current_date + timedelta(days=5)\n",
    "\n",
    "print(\"Current Date:\", current_date.strftime(\"%Y-%m-%d\"))\n",
    "print(\"Date after adding five days:\", new_date.strftime(\"%Y-%m-%d\"))\n",
    "\n",
    "\n"
   ]
  },
  {
   "cell_type": "code",
   "execution_count": null,
   "metadata": {},
   "outputs": [],
   "source": [
    "def square(number):\n",
    "     \n",
    "    result = number ** 2\n",
    "    return result\n",
    " \n",
    "input_number = float(input(\"Enter a number: \"))\n",
    "result_square = square(input_number)\n",
    "print(f\"The square of {input_number} is: {result_square}\")"
   ]
  },
  {
   "cell_type": "code",
   "execution_count": 1,
   "metadata": {},
   "outputs": [],
   "source": [
    "def rectangle(l,w):\n",
    "    area = l*w\n",
    "    return area\n",
    "\n",
    " "
   ]
  },
  {
   "cell_type": "code",
   "execution_count": 2,
   "metadata": {},
   "outputs": [
    {
     "name": "stdout",
     "output_type": "stream",
     "text": [
      "1\n",
      "2\n",
      "3\n",
      "4\n",
      "5\n",
      "6\n",
      "7\n",
      "8\n",
      "9\n",
      "10\n"
     ]
    }
   ],
   "source": [
    "a = 1\n",
    "while a <= 10:\n",
    "    print(a)\n",
    "    a+=1"
   ]
  }
 ],
 "metadata": {
  "kernelspec": {
   "display_name": "Python 3",
   "language": "python",
   "name": "python3"
  },
  "language_info": {
   "codemirror_mode": {
    "name": "ipython",
    "version": 3
   },
   "file_extension": ".py",
   "mimetype": "text/x-python",
   "name": "python",
   "nbconvert_exporter": "python",
   "pygments_lexer": "ipython3",
   "version": "3.12.0"
  }
 },
 "nbformat": 4,
 "nbformat_minor": 2
}
